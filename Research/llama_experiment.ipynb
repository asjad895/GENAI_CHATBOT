{
  "cells": [
    {
      "cell_type": "markdown",
      "metadata": {
        "id": "view-in-github",
        "colab_type": "text"
      },
      "source": [
        "<a href=\"https://colab.research.google.com/github/asjad895/GENAI_CHATBOT/blob/main/Research/llama_experiment.ipynb\" target=\"_parent\"><img src=\"https://colab.research.google.com/assets/colab-badge.svg\" alt=\"Open In Colab\"/></a>"
      ]
    },
    {
      "cell_type": "code",
      "execution_count": 1,
      "metadata": {
        "id": "tOLS8hx02JBz"
      },
      "outputs": [],
      "source": [
        "%%capture\n",
        "!pip install torch\n",
        "!pip install transformers\n",
        "!pip install accelerate"
      ]
    },
    {
      "cell_type": "code",
      "execution_count": 2,
      "metadata": {
        "id": "joqLmTSz5pIv"
      },
      "outputs": [],
      "source": [
        "class PromptTemplate:\n",
        "    def __init__(self,chatbot_prompt :str = None, intent_classifier_prompt :str = None) ->None:\n",
        "      self.chatbot_prompt = \"\"\"\n",
        "\"\"\" if chatbot_prompt is None else chatbot_prompt\n",
        "\n",
        "      self.intent_classifier_prompt = \"\"\"\n",
        "\"\"\" if intent_classifier_prompt is None else intent_classifier_prompt\n",
        "\n",
        "    def format(self,chatbot_prompt = True,**kwargs) ->str:\n",
        "        if chatbot_prompt:\n",
        "            # knowledge_source = kwargs['knowledge_source']\n",
        "            # del kwargs['knowledge_source']\n",
        "             system = {\"role\":\"system\",\"content\":f\"{self.chatbot_prompt}\"}\n",
        "        else:\n",
        "            system = {\"role\":\"system\",\"content\":f\"{self.intent_classifier_prompt}\"}\n",
        "\n",
        "        return system\n"
      ]
    },
    {
      "cell_type": "code",
      "execution_count": 3,
      "metadata": {
        "id": "BE2wZXvHZkz4"
      },
      "outputs": [],
      "source": [
        "domain_examples = {\n",
        "    \"Healthcare\": [\n",
        "        {\"query\": \"I have a headache and a fever, what could it be?\", \"intent\": \"Symptom Check\"},\n",
        "        {\"query\": \"My throat is really sore and I'm coughing, what should I do?\", \"intent\": \"Symptom Check\"},\n",
        "        {\"query\": \"I woke up with a rash all over my body, is this contagious?\", \"intent\": \"Symptom Check\"},\n",
        "        {\"query\": \"I've been feeling dizzy and nauseous lately, what could be the cause?\", \"intent\": \"Symptom Check\"},\n",
        "        {\"query\": \"Can I book an appointment with Dr. Smith next Tuesday?\", \"intent\": \"Doctor Appointment\"},\n",
        "        {\"query\": \"I need to see a cardiologist, how do I schedule a consultation?\", \"intent\": \"Doctor Appointment\"},\n",
        "        {\"query\": \"What are the available slots for a pediatric dentist next week?\", \"intent\": \"Doctor Appointment\"},\n",
        "        {\"query\": \"I need to reschedule my appointment with Dr. Jones, what should I do?\", \"intent\": \"Doctor Appointment\"},\n",
        "        {\"query\": \"What are the side effects of ibuprofen?\", \"intent\": \"Medication Information\"},\n",
        "        {\"query\": \"Can I take this medication with antibiotics?\", \"intent\": \"Medication Information\"},\n",
        "        {\"query\": \"How long does it take for this medication to start working?\", \"intent\": \"Medication Information\"},\n",
        "        {\"query\": \"What is the dosage for this medicine for children?\", \"intent\": \"Medication Information\"},\n",
        "        {\"query\": \"What are the visiting hours for XYZ Hospital?\", \"intent\": \"Hospital Information\"},\n",
        "        {\"query\": \"Is there a pharmacy in ABC Hospital?\", \"intent\": \"Hospital Information\"},\n",
        "        {\"query\": \"How do I get to DEF Hospital from my location?\", \"intent\": \"Hospital Information\"},\n",
        "        {\"query\": \"Does this hospital have an emergency department?\", \"intent\": \"Hospital Information\"},\n",
        "        {\"query\": \"What are the different types of health checkups available?\", \"intent\": \"Health Checkup\"},\n",
        "        {\"query\": \"How much does a full body checkup cost?\", \"intent\": \"Health Checkup\"},\n",
        "        {\"query\": \"Does your health insurance cover preventive checkups?\", \"intent\": \"Health Checkup\"},\n",
        "        {\"query\": \"I want to book a diabetes screening test, how do I proceed?\", \"intent\": \"Health Checkup\"},\n",
        "    ],\n",
        "    \"Insurance\": [\n",
        "        {\"query\": \"What is the coverage for my car insurance?\", \"intent\": \"Policy Information\"},\n",
        "        {\"query\": \"Does my health insurance cover pre-existing conditions?\", \"intent\": \"Policy Information\"},\n",
        "        {\"query\": \"What are the different types of life insurance policies available?\", \"intent\": \"Policy Information\"},\n",
        "        {\"query\": \"What is the deductible for my home insurance?\", \"intent\": \"Policy Information\"},\n",
        "        {\"query\": \"How do I file a claim for a car accident?\", \"intent\": \"Claim Filing\"},\n",
        "        {\"query\": \"What documents are required to file a health insurance claim?\", \"intent\": \"Claim Filing\"},\n",
        "        {\"query\": \"My car was stolen, how do I file a claim?\", \"intent\": \"Claim Filing\"},\n",
        "        {\"query\": \"I need to submit a claim for a dental procedure, what are the steps?\", \"intent\": \"Claim Filing\"},\n",
        "        {\"query\": \"What are the different payment options for my insurance premium?\", \"intent\": \"Premium Payment\"},\n",
        "        {\"query\": \"When is my next premium due?\", \"intent\": \"Premium Payment\"},\n",
        "        {\"query\": \"Can I pay my premium online?\", \"intent\": \"Premium Payment\"},\n",
        "        {\"query\": \"What happens if I miss a premium payment?\", \"intent\": \"Premium Payment\"},\n",
        "        {\"query\": \"Is physiotherapy covered under my health insurance?\", \"intent\": \"Coverage Check\"},\n",
        "        {\"query\": \"Does my travel insurance cover lost luggage?\", \"intent\": \"Coverage Check\"},\n",
        "        {\"query\": \"Is cosmetic surgery covered by my health plan?\", \"intent\": \"Coverage Check\"},\n",
        "        {\"query\": \"Will my car insurance cover damage caused by a flood?\", \"intent\": \"Coverage Check\"},\n",
        "    ],\n",
        "    \"Finance\": [\n",
        "        {\"query\": \"What are the best mutual funds to invest in for long-term growth?\", \"intent\": \"Investment Advice\"},\n",
        "        {\"query\": \"Should I invest in stocks or bonds right now?\", \"intent\": \"Investment Advice\"},\n",
        "        {\"query\": \"What are the risks and rewards of investing in cryptocurrency?\", \"intent\": \"Investment Advice\"},\n",
        "        {\"query\": \"How can I start investing in the stock market?\", \"intent\": \"Investment Advice\"},\n",
        "        {\"query\": \"What are the eligibility criteria for a personal loan?\", \"intent\": \"Loan Application\"},\n",
        "        {\"query\": \"How do I apply for a home loan online?\", \"intent\": \"Loan Application\"},\n",
        "        {\"query\": \"What documents are required for a car loan application?\", \"intent\": \"Loan Application\"},\n",
        "        {\"query\": \"What is the interest rate on a student loan?\", \"intent\": \"Loan Application\"},\n",
        "        {\"query\": \"My credit card is not working, what should I do?\", \"intent\": \"Credit Card Issues\"},\n",
        "        {\"query\": \"How do I dispute a transaction on my credit card?\", \"intent\": \"Credit Card Issues\"},\n",
        "        {\"query\": \"What are the fees associated with my credit card?\", \"intent\": \"Credit Card Issues\"},\n",
        "        {\"query\": \"I suspect fraudulent activity on my credit card, what steps should I take?\", \"intent\": \"Credit Card Issues\"},\n",
        "        {\"query\": \"How can I save money on my groceries?\", \"intent\": \"Savings & Budgeting\"},\n",
        "        {\"query\": \"What are some tips for creating a budget?\", \"intent\": \"Savings & Budgeting\"},\n",
        "        {\"query\": \"How can I reduce my monthly expenses?\", \"intent\": \"Savings & Budgeting\"},\n",
        "        {\"query\": \"What are some high-yield savings accounts?\", \"intent\": \"Savings & Budgeting\"},\n",
        "    ],\n",
        "    \"Retail\": [\n",
        "        {\"query\": \"Is the new Samsung phone available in stock?\", \"intent\": \"Product Availability\"},\n",
        "        {\"query\": \"Do you have any red t-shirts in size medium?\", \"intent\": \"Product Availability\"},\n",
        "        {\"query\": \"Is this product available for delivery to my address?\", \"intent\": \"Product Availability\"},\n",
        "        {\"query\": \"When will this item be back in stock?\", \"intent\": \"Product Availability\"},\n",
        "        {\"query\": \"What is the price of this laptop?\", \"intent\": \"Product Pricing\"},\n",
        "        {\"query\": \"Are there any discounts available on this item?\", \"intent\": \"Product Pricing\"},\n",
        "        {\"query\": \"What is the price difference between these two models?\", \"intent\": \"Product Pricing\"},\n",
        "        {\"query\": \"Do you offer any price matching?\", \"intent\": \"Product Pricing\"},\n",
        "        {\"query\": \"How do I track my order?\", \"intent\": \"Order Tracking\"},\n",
        "        {\"query\": \"What is the status of my delivery?\", \"intent\": \"Order Tracking\"},\n",
        "        {\"query\": \"When can I expect my order to arrive?\", \"intent\": \"Order Tracking\"},\n",
        "        {\"query\": \"Why is my order delayed?\", \"intent\": \"Order Tracking\"},\n",
        "        {\"query\": \"How do I return an item?\", \"intent\": \"Returns & Refunds\"},\n",
        "        {\"query\": \"What is the return policy for this product?\", \"intent\": \"Returns & Refunds\"},\n",
        "        {\"query\": \"How long does it take to get a refund?\", \"intent\": \"Returns & Refunds\"},\n",
        "        {\"query\": \"Can I exchange this item for a different size?\", \"intent\": \"Returns & Refunds\"},\n",
        "    ]\n",
        "}"
      ]
    },
    {
      "cell_type": "code",
      "execution_count": 4,
      "metadata": {
        "id": "RuUfcrY-YX8s",
        "colab": {
          "base_uri": "https://localhost:8080/",
          "height": 224
        },
        "outputId": "2a01d969-802e-4147-a023-c826c296d130"
      },
      "outputs": [
        {
          "output_type": "stream",
          "name": "stdout",
          "text": [
            "(68, 2)\n"
          ]
        },
        {
          "output_type": "execute_result",
          "data": {
            "text/plain": [
              "       Intent                                           Examples\n",
              "0  healthcare   I have a headache and a fever, what could it be?\n",
              "1  healthcare  My throat is really sore and I'm coughing, wha...\n",
              "2  healthcare  I woke up with a rash all over my body, is thi...\n",
              "3  healthcare  I've been feeling dizzy and nauseous lately, w...\n",
              "4  healthcare  Can I book an appointment with Dr. Smith next ..."
            ],
            "text/html": [
              "\n",
              "  <div id=\"df-82db1812-02ae-4de3-afd6-33a8e5e60984\" class=\"colab-df-container\">\n",
              "    <div>\n",
              "<style scoped>\n",
              "    .dataframe tbody tr th:only-of-type {\n",
              "        vertical-align: middle;\n",
              "    }\n",
              "\n",
              "    .dataframe tbody tr th {\n",
              "        vertical-align: top;\n",
              "    }\n",
              "\n",
              "    .dataframe thead th {\n",
              "        text-align: right;\n",
              "    }\n",
              "</style>\n",
              "<table border=\"1\" class=\"dataframe\">\n",
              "  <thead>\n",
              "    <tr style=\"text-align: right;\">\n",
              "      <th></th>\n",
              "      <th>Intent</th>\n",
              "      <th>Examples</th>\n",
              "    </tr>\n",
              "  </thead>\n",
              "  <tbody>\n",
              "    <tr>\n",
              "      <th>0</th>\n",
              "      <td>healthcare</td>\n",
              "      <td>I have a headache and a fever, what could it be?</td>\n",
              "    </tr>\n",
              "    <tr>\n",
              "      <th>1</th>\n",
              "      <td>healthcare</td>\n",
              "      <td>My throat is really sore and I'm coughing, wha...</td>\n",
              "    </tr>\n",
              "    <tr>\n",
              "      <th>2</th>\n",
              "      <td>healthcare</td>\n",
              "      <td>I woke up with a rash all over my body, is thi...</td>\n",
              "    </tr>\n",
              "    <tr>\n",
              "      <th>3</th>\n",
              "      <td>healthcare</td>\n",
              "      <td>I've been feeling dizzy and nauseous lately, w...</td>\n",
              "    </tr>\n",
              "    <tr>\n",
              "      <th>4</th>\n",
              "      <td>healthcare</td>\n",
              "      <td>Can I book an appointment with Dr. Smith next ...</td>\n",
              "    </tr>\n",
              "  </tbody>\n",
              "</table>\n",
              "</div>\n",
              "    <div class=\"colab-df-buttons\">\n",
              "\n",
              "  <div class=\"colab-df-container\">\n",
              "    <button class=\"colab-df-convert\" onclick=\"convertToInteractive('df-82db1812-02ae-4de3-afd6-33a8e5e60984')\"\n",
              "            title=\"Convert this dataframe to an interactive table.\"\n",
              "            style=\"display:none;\">\n",
              "\n",
              "  <svg xmlns=\"http://www.w3.org/2000/svg\" height=\"24px\" viewBox=\"0 -960 960 960\">\n",
              "    <path d=\"M120-120v-720h720v720H120Zm60-500h600v-160H180v160Zm220 220h160v-160H400v160Zm0 220h160v-160H400v160ZM180-400h160v-160H180v160Zm440 0h160v-160H620v160ZM180-180h160v-160H180v160Zm440 0h160v-160H620v160Z\"/>\n",
              "  </svg>\n",
              "    </button>\n",
              "\n",
              "  <style>\n",
              "    .colab-df-container {\n",
              "      display:flex;\n",
              "      gap: 12px;\n",
              "    }\n",
              "\n",
              "    .colab-df-convert {\n",
              "      background-color: #E8F0FE;\n",
              "      border: none;\n",
              "      border-radius: 50%;\n",
              "      cursor: pointer;\n",
              "      display: none;\n",
              "      fill: #1967D2;\n",
              "      height: 32px;\n",
              "      padding: 0 0 0 0;\n",
              "      width: 32px;\n",
              "    }\n",
              "\n",
              "    .colab-df-convert:hover {\n",
              "      background-color: #E2EBFA;\n",
              "      box-shadow: 0px 1px 2px rgba(60, 64, 67, 0.3), 0px 1px 3px 1px rgba(60, 64, 67, 0.15);\n",
              "      fill: #174EA6;\n",
              "    }\n",
              "\n",
              "    .colab-df-buttons div {\n",
              "      margin-bottom: 4px;\n",
              "    }\n",
              "\n",
              "    [theme=dark] .colab-df-convert {\n",
              "      background-color: #3B4455;\n",
              "      fill: #D2E3FC;\n",
              "    }\n",
              "\n",
              "    [theme=dark] .colab-df-convert:hover {\n",
              "      background-color: #434B5C;\n",
              "      box-shadow: 0px 1px 3px 1px rgba(0, 0, 0, 0.15);\n",
              "      filter: drop-shadow(0px 1px 2px rgba(0, 0, 0, 0.3));\n",
              "      fill: #FFFFFF;\n",
              "    }\n",
              "  </style>\n",
              "\n",
              "    <script>\n",
              "      const buttonEl =\n",
              "        document.querySelector('#df-82db1812-02ae-4de3-afd6-33a8e5e60984 button.colab-df-convert');\n",
              "      buttonEl.style.display =\n",
              "        google.colab.kernel.accessAllowed ? 'block' : 'none';\n",
              "\n",
              "      async function convertToInteractive(key) {\n",
              "        const element = document.querySelector('#df-82db1812-02ae-4de3-afd6-33a8e5e60984');\n",
              "        const dataTable =\n",
              "          await google.colab.kernel.invokeFunction('convertToInteractive',\n",
              "                                                    [key], {});\n",
              "        if (!dataTable) return;\n",
              "\n",
              "        const docLinkHtml = 'Like what you see? Visit the ' +\n",
              "          '<a target=\"_blank\" href=https://colab.research.google.com/notebooks/data_table.ipynb>data table notebook</a>'\n",
              "          + ' to learn more about interactive tables.';\n",
              "        element.innerHTML = '';\n",
              "        dataTable['output_type'] = 'display_data';\n",
              "        await google.colab.output.renderOutput(dataTable, element);\n",
              "        const docLink = document.createElement('div');\n",
              "        docLink.innerHTML = docLinkHtml;\n",
              "        element.appendChild(docLink);\n",
              "      }\n",
              "    </script>\n",
              "  </div>\n",
              "\n",
              "\n",
              "<div id=\"df-80b396de-1e61-430f-97e0-1c4638b7f9cc\">\n",
              "  <button class=\"colab-df-quickchart\" onclick=\"quickchart('df-80b396de-1e61-430f-97e0-1c4638b7f9cc')\"\n",
              "            title=\"Suggest charts\"\n",
              "            style=\"display:none;\">\n",
              "\n",
              "<svg xmlns=\"http://www.w3.org/2000/svg\" height=\"24px\"viewBox=\"0 0 24 24\"\n",
              "     width=\"24px\">\n",
              "    <g>\n",
              "        <path d=\"M19 3H5c-1.1 0-2 .9-2 2v14c0 1.1.9 2 2 2h14c1.1 0 2-.9 2-2V5c0-1.1-.9-2-2-2zM9 17H7v-7h2v7zm4 0h-2V7h2v10zm4 0h-2v-4h2v4z\"/>\n",
              "    </g>\n",
              "</svg>\n",
              "  </button>\n",
              "\n",
              "<style>\n",
              "  .colab-df-quickchart {\n",
              "      --bg-color: #E8F0FE;\n",
              "      --fill-color: #1967D2;\n",
              "      --hover-bg-color: #E2EBFA;\n",
              "      --hover-fill-color: #174EA6;\n",
              "      --disabled-fill-color: #AAA;\n",
              "      --disabled-bg-color: #DDD;\n",
              "  }\n",
              "\n",
              "  [theme=dark] .colab-df-quickchart {\n",
              "      --bg-color: #3B4455;\n",
              "      --fill-color: #D2E3FC;\n",
              "      --hover-bg-color: #434B5C;\n",
              "      --hover-fill-color: #FFFFFF;\n",
              "      --disabled-bg-color: #3B4455;\n",
              "      --disabled-fill-color: #666;\n",
              "  }\n",
              "\n",
              "  .colab-df-quickchart {\n",
              "    background-color: var(--bg-color);\n",
              "    border: none;\n",
              "    border-radius: 50%;\n",
              "    cursor: pointer;\n",
              "    display: none;\n",
              "    fill: var(--fill-color);\n",
              "    height: 32px;\n",
              "    padding: 0;\n",
              "    width: 32px;\n",
              "  }\n",
              "\n",
              "  .colab-df-quickchart:hover {\n",
              "    background-color: var(--hover-bg-color);\n",
              "    box-shadow: 0 1px 2px rgba(60, 64, 67, 0.3), 0 1px 3px 1px rgba(60, 64, 67, 0.15);\n",
              "    fill: var(--button-hover-fill-color);\n",
              "  }\n",
              "\n",
              "  .colab-df-quickchart-complete:disabled,\n",
              "  .colab-df-quickchart-complete:disabled:hover {\n",
              "    background-color: var(--disabled-bg-color);\n",
              "    fill: var(--disabled-fill-color);\n",
              "    box-shadow: none;\n",
              "  }\n",
              "\n",
              "  .colab-df-spinner {\n",
              "    border: 2px solid var(--fill-color);\n",
              "    border-color: transparent;\n",
              "    border-bottom-color: var(--fill-color);\n",
              "    animation:\n",
              "      spin 1s steps(1) infinite;\n",
              "  }\n",
              "\n",
              "  @keyframes spin {\n",
              "    0% {\n",
              "      border-color: transparent;\n",
              "      border-bottom-color: var(--fill-color);\n",
              "      border-left-color: var(--fill-color);\n",
              "    }\n",
              "    20% {\n",
              "      border-color: transparent;\n",
              "      border-left-color: var(--fill-color);\n",
              "      border-top-color: var(--fill-color);\n",
              "    }\n",
              "    30% {\n",
              "      border-color: transparent;\n",
              "      border-left-color: var(--fill-color);\n",
              "      border-top-color: var(--fill-color);\n",
              "      border-right-color: var(--fill-color);\n",
              "    }\n",
              "    40% {\n",
              "      border-color: transparent;\n",
              "      border-right-color: var(--fill-color);\n",
              "      border-top-color: var(--fill-color);\n",
              "    }\n",
              "    60% {\n",
              "      border-color: transparent;\n",
              "      border-right-color: var(--fill-color);\n",
              "    }\n",
              "    80% {\n",
              "      border-color: transparent;\n",
              "      border-right-color: var(--fill-color);\n",
              "      border-bottom-color: var(--fill-color);\n",
              "    }\n",
              "    90% {\n",
              "      border-color: transparent;\n",
              "      border-bottom-color: var(--fill-color);\n",
              "    }\n",
              "  }\n",
              "</style>\n",
              "\n",
              "  <script>\n",
              "    async function quickchart(key) {\n",
              "      const quickchartButtonEl =\n",
              "        document.querySelector('#' + key + ' button');\n",
              "      quickchartButtonEl.disabled = true;  // To prevent multiple clicks.\n",
              "      quickchartButtonEl.classList.add('colab-df-spinner');\n",
              "      try {\n",
              "        const charts = await google.colab.kernel.invokeFunction(\n",
              "            'suggestCharts', [key], {});\n",
              "      } catch (error) {\n",
              "        console.error('Error during call to suggestCharts:', error);\n",
              "      }\n",
              "      quickchartButtonEl.classList.remove('colab-df-spinner');\n",
              "      quickchartButtonEl.classList.add('colab-df-quickchart-complete');\n",
              "    }\n",
              "    (() => {\n",
              "      let quickchartButtonEl =\n",
              "        document.querySelector('#df-80b396de-1e61-430f-97e0-1c4638b7f9cc button');\n",
              "      quickchartButtonEl.style.display =\n",
              "        google.colab.kernel.accessAllowed ? 'block' : 'none';\n",
              "    })();\n",
              "  </script>\n",
              "</div>\n",
              "\n",
              "    </div>\n",
              "  </div>\n"
            ],
            "application/vnd.google.colaboratory.intrinsic+json": {
              "type": "dataframe",
              "variable_name": "examples_df",
              "summary": "{\n  \"name\": \"examples_df\",\n  \"rows\": 68,\n  \"fields\": [\n    {\n      \"column\": \"Intent\",\n      \"properties\": {\n        \"dtype\": \"category\",\n        \"num_unique_values\": 4,\n        \"samples\": [\n          \"insurance\",\n          \"retail\",\n          \"healthcare\"\n        ],\n        \"semantic_type\": \"\",\n        \"description\": \"\"\n      }\n    },\n    {\n      \"column\": \"Examples\",\n      \"properties\": {\n        \"dtype\": \"string\",\n        \"num_unique_values\": 68,\n        \"samples\": [\n          \"What are the fees associated with my credit card?\",\n          \"What are the different types of health checkups available?\",\n          \"Can I book an appointment with Dr. Smith next Tuesday?\"\n        ],\n        \"semantic_type\": \"\",\n        \"description\": \"\"\n      }\n    }\n  ]\n}"
            }
          },
          "metadata": {},
          "execution_count": 4
        }
      ],
      "source": [
        "import pandas as pd\n",
        "examples_df = pd.DataFrame(columns=[\"Intent\", \"Examples\"])\n",
        "for domain, examples in domain_examples.items():\n",
        "    for example in examples:\n",
        "        examples_df = pd.concat([examples_df, pd.DataFrame({\"Intent\": [domain.lower().strip()], \"Examples\": [example[\"query\"]]})], ignore_index=True)\n",
        "\n",
        "print(examples_df.shape)\n",
        "examples_df.head()\n"
      ]
    },
    {
      "cell_type": "code",
      "execution_count": 5,
      "metadata": {
        "id": "-vja-Kn3ShtW"
      },
      "outputs": [],
      "source": [
        "from jinja2 import Template"
      ]
    },
    {
      "cell_type": "code",
      "execution_count": 6,
      "metadata": {
        "id": "3ZVPtodAIljx"
      },
      "outputs": [],
      "source": [
        "intents_des = \"\"\"Healthcare: This domain focuses on health and medical-related queries. The chatbot must understand and address concerns\n",
        "related to symptoms, diagnoses, treatments, medications, doctor or specialist information, health check-up packages,\n",
        "and appointment scheduling. It should also handle questions about healthcare services like telemedicine, hospital locations, or insurance-covered treatments.\n",
        "\n",
        "Insurance : This domain addresses questions about insurance policies, claims, premiums, coverage, and renewals. It should provide information on types of insurance (health, life, vehicle, etc.),\n",
        "coverage inclusions and exclusions, and process-oriented queries like filing claims or resolving disputes.\n",
        "\n",
        "Finance: This domain caters to financial-related queries such as investment options, bank loans, credit card issues, or savings plans. The chatbot must address personal finance management, tax-saving methods, account setup, and transactional problems while maintaining\n",
        "contextual understanding.\n",
        "\n",
        "Retail: This domain involves queries about shopping, products, pricing, availability, discounts, order status, returns,refund and customer support. It also includes guidance on using e-commerce platforms or stores to make purchases and track orders.\n",
        "\n",
        "other: This should trigger when user query is out of above domain means user query is not falling to any of above domains(Healthcare,Insurance,Finance,Retail).\n",
        "\"\"\"\n",
        "\n",
        "intents_prompt = \"\"\"--Role--\n",
        "You are an expert in intent classifier of user query to the only given domain.\n",
        "These are the domain with description you should classify the query into one of these domain only-\n",
        "{{intents}}\n",
        "--Restrictions--\n",
        "Do not generate anything apart from json output.\n",
        "--output--\n",
        "Always return output in this format-\n",
        "{\"intent\":\"your prediction\"}\n",
        "\"\"\""
      ]
    },
    {
      "cell_type": "code",
      "execution_count": 7,
      "metadata": {
        "id": "UAgABZG2TDvb"
      },
      "outputs": [],
      "source": [
        "expected_intents = ['healthcare','insurance','finance','retail','other']"
      ]
    },
    {
      "cell_type": "code",
      "execution_count": 8,
      "metadata": {
        "id": "0d_ul4K8RNmp",
        "colab": {
          "base_uri": "https://localhost:8080/"
        },
        "outputId": "9d8e1bad-3b6c-47db-e4a3-8735637894ac"
      },
      "outputs": [
        {
          "output_type": "stream",
          "name": "stdout",
          "text": [
            "--Role--\n",
            "You are an expert in intent classifier of user query to the only given domain.\n",
            "These are the domain with description you should classify the query into one of these domain only-\n",
            "Healthcare: This domain focuses on health and medical-related queries. The chatbot must understand and address concerns\n",
            "related to symptoms, diagnoses, treatments, medications, doctor or specialist information, health check-up packages,\n",
            "and appointment scheduling. It should also handle questions about healthcare services like telemedicine, hospital locations, or insurance-covered treatments.\n",
            "\n",
            "Insurance : This domain addresses questions about insurance policies, claims, premiums, coverage, and renewals. It should provide information on types of insurance (health, life, vehicle, etc.),\n",
            "coverage inclusions and exclusions, and process-oriented queries like filing claims or resolving disputes.\n",
            "\n",
            "Finance: This domain caters to financial-related queries such as investment options, bank loans, credit card issues, or savings plans. The chatbot must address personal finance management, tax-saving methods, account setup, and transactional problems while maintaining\n",
            "contextual understanding.\n",
            "\n",
            "Retail: This domain involves queries about shopping, products, pricing, availability, discounts, order status, returns,refund and customer support. It also includes guidance on using e-commerce platforms or stores to make purchases and track orders.\n",
            "\n",
            "other: This should trigger when user query is out of above domain means user query is not falling to any of above domains(Healthcare,Insurance,Finance,Retail).\n",
            "\n",
            "--Restrictions--\n",
            "Do not generate anything apart from json output.\n",
            "--output--\n",
            "Always return output in this format-\n",
            "{\"intent\":\"your prediction\"}\n"
          ]
        }
      ],
      "source": [
        "template = Template(intents_prompt)\n",
        "prompt = template.render(intents=intents_des)\n",
        "print(template.render(intents=intents_des))"
      ]
    },
    {
      "cell_type": "code",
      "execution_count": 9,
      "metadata": {
        "id": "-HoKNKIWTRHE",
        "colab": {
          "base_uri": "https://localhost:8080/"
        },
        "outputId": "2f74131a-a6dc-49f8-f824-3733c864200f"
      },
      "outputs": [
        {
          "output_type": "stream",
          "name": "stdout",
          "text": [
            "{'role': 'system', 'content': '--Role--\\nYou are an expert in intent classifier of user query to the only given domain.\\nThese are the domain with description you should classify the query into one of these domain only-\\nHealthcare: This domain focuses on health and medical-related queries. The chatbot must understand and address concerns\\nrelated to symptoms, diagnoses, treatments, medications, doctor or specialist information, health check-up packages,\\nand appointment scheduling. It should also handle questions about healthcare services like telemedicine, hospital locations, or insurance-covered treatments.\\n\\nInsurance : This domain addresses questions about insurance policies, claims, premiums, coverage, and renewals. It should provide information on types of insurance (health, life, vehicle, etc.),\\ncoverage inclusions and exclusions, and process-oriented queries like filing claims or resolving disputes.\\n\\nFinance: This domain caters to financial-related queries such as investment options, bank loans, credit card issues, or savings plans. The chatbot must address personal finance management, tax-saving methods, account setup, and transactional problems while maintaining\\ncontextual understanding.\\n\\nRetail: This domain involves queries about shopping, products, pricing, availability, discounts, order status, returns,refund and customer support. It also includes guidance on using e-commerce platforms or stores to make purchases and track orders.\\n\\nother: This should trigger when user query is out of above domain means user query is not falling to any of above domains(Healthcare,Insurance,Finance,Retail).\\n\\n--Restrictions--\\nDo not generate anything apart from json output.\\n--output--\\nAlways return output in this format-\\n{\"intent\":\"your prediction\"}'}\n"
          ]
        }
      ],
      "source": [
        "prompt_template = PromptTemplate(intent_classifier_prompt=prompt)\n",
        "system_message = prompt_template.format(chatbot_prompt=False,intent_classifier_prompt=True)\n",
        "print(prompt_template.format(chatbot_prompt=False,intent_classifier_prompt=True))"
      ]
    },
    {
      "cell_type": "code",
      "execution_count": 10,
      "metadata": {
        "id": "HJrrdXRBIi-s"
      },
      "outputs": [],
      "source": [
        "chatbot = \"\"\"\n",
        "\"\"\""
      ]
    },
    {
      "cell_type": "code",
      "execution_count": 11,
      "metadata": {
        "id": "Nfprjp-UGps7"
      },
      "outputs": [],
      "source": [
        "from typing import List,Dict\n",
        "class ChatHistory:\n",
        "  def __init__(self) -> None:\n",
        "      self.chat_history = []\n",
        "\n",
        "\n",
        "  def add_message(self,role : str,content : str) -> None:\n",
        "      self.chat_history.append({\"role\":role,\"content\":content})\n",
        "\n",
        "  def get_chat_history(self) -> List[Dict]:\n",
        "      return self.chat_history\n",
        "\n",
        "  def clear_chat_history(self) -> None:\n",
        "      self.chat_history = []\n",
        "\n",
        "  def __len__(self) -> int:\n",
        "      return len(self.chat_history)\n",
        "\n"
      ]
    },
    {
      "cell_type": "code",
      "execution_count": 11,
      "metadata": {
        "id": "fwLpzlZWlYGw"
      },
      "outputs": [],
      "source": []
    },
    {
      "cell_type": "code",
      "execution_count": 19,
      "metadata": {
        "id": "ntR7spbvWIzx",
        "colab": {
          "base_uri": "https://localhost:8080/",
          "height": 17,
          "referenced_widgets": [
            "a65f01fbe7064f32b68b5bea86f2b19f",
            "df63172a15854c0e9d8b290e0cd15db1",
            "854dc4ab71104966ba8ded7454e56f3f",
            "3dcb629619ac45598a441afe459f1b32",
            "54e938d0921746cd961e2387f16f1ed9",
            "d46d7ecec7ca46c88687cddc18ee8045",
            "2b76e90888b64074ac3e30078ee0cc56",
            "97c14e69b8264d01a863f50d6e038d98",
            "3441f374ca0447298bb2921c0ad5f14e",
            "316c13df25a941eda261ef02369cbfe9",
            "bb67ef2832cc49e4bc80f2ed0fb48f0f",
            "be02dc7509364494899c0d988c3d308e",
            "dbaac6ec2f9e401e83d86a1c9c3dfa50",
            "5a0eaba3fa3e4d10b4bb48bbfb9f7e15",
            "31e0e743bad34789be476f27dc88b778",
            "69283841ab6243fa93fb59bd5d993af6",
            "6e6c54fa0f2648ddbbb693aa8a68148d",
            "abeb493e0ceb4b7b8a7a5dbcc5b0b500",
            "5901e9b6cc9f469ca7aa5cffa0944baf",
            "d01fa789c7414e42bc08550aab434211"
          ]
        },
        "outputId": "3ef6c2f6-31b3-4b76-eef6-28c2a77fe93e"
      },
      "outputs": [
        {
          "output_type": "display_data",
          "data": {
            "text/plain": [
              "VBox(children=(HTML(value='<center> <img\\nsrc=https://huggingface.co/front/assets/huggingface_logo-noborder.sv…"
            ],
            "application/vnd.jupyter.widget-view+json": {
              "version_major": 2,
              "version_minor": 0,
              "model_id": "a65f01fbe7064f32b68b5bea86f2b19f"
            }
          },
          "metadata": {}
        }
      ],
      "source": [
        "from huggingface_hub import notebook_login\n",
        "notebook_login()"
      ]
    },
    {
      "cell_type": "code",
      "execution_count": 20,
      "metadata": {
        "id": "Un7vw_C3nWwj"
      },
      "outputs": [],
      "source": [
        "%%capture\n",
        "!pip install bitsandbytes"
      ]
    },
    {
      "cell_type": "code",
      "execution_count": 45,
      "metadata": {
        "id": "8Uo6qoSkaVbL"
      },
      "outputs": [],
      "source": [
        "from transformers import AutoTokenizer, AutoModelForCausalLM, pipeline\n",
        "import torch\n",
        "import bitsandbytes as bnb\n",
        "from transformers import BitsAndBytesConfig\n",
        "from typing import Tuple,Union,List,Dict\n",
        "import subprocess\n",
        "\n",
        "class ChatCompletion:\n",
        "  def __init__(self ,**kwargs) -> None:\n",
        "    if 'device' in kwargs:\n",
        "      self.device = kwargs['device']\n",
        "    else:\n",
        "      self.device = \"cuda:0\" if torch.cuda.is_available() else \"cpu\"\n",
        "\n",
        "    if 'model' in kwargs:\n",
        "      try:\n",
        "        self.model = kwargs['model']\n",
        "        self.tokenizer = kwargs['tokenizer']\n",
        "      except:\n",
        "        raise Exception(\"'model' or 'tokenizer' not found\")\n",
        "\n",
        "  def create(self,messages : List[Dict],**kwargs) -> str:\n",
        "    if 'max_new_tokens' in kwargs:\n",
        "      max_new_tokens = kwargs['max_new_tokens']\n",
        "    else:\n",
        "      max_new_tokens = 500\n",
        "    if 'temperature' in kwargs:\n",
        "      temperature = kwargs['temperature']\n",
        "    else:\n",
        "      temperature = 0.6\n",
        "    if 'top_p' in kwargs:\n",
        "      top_p = kwargs['top_p']\n",
        "    else:\n",
        "      top_p = 0.9\n",
        "\n",
        "    if 'do_sample' in kwargs:\n",
        "      do_sample = kwargs['do_sample']\n",
        "    else:\n",
        "      do_sample = False\n",
        "\n",
        "    if 'repetition_penalty' in kwargs:\n",
        "      repetition_penalty = kwargs['repetition_penalty']\n",
        "    else:\n",
        "      repetition_penalty = 1.0\n",
        "\n",
        "    if 'eos_token_id' in kwargs:\n",
        "      eos_token_id = kwargs['eos_token_id']\n",
        "\n",
        "    else:\n",
        "      eos_token_id = None\n",
        "\n",
        "    if 'pad_token_id' in kwargs:\n",
        "      pad_token_id = kwargs['pad_token_id']\n",
        "    else:\n",
        "      pad_token_id = self.tokenizer.eos_token_id\n",
        "\n",
        "    if 'return_full_text' in kwargs:\n",
        "      return_full_text = kwargs['return_full_text']\n",
        "    else:\n",
        "      return_full_text = False\n",
        "\n",
        "    if 'return_prompt' in kwargs:\n",
        "      return_prompt = kwargs['return_prompt']\n",
        "    else:\n",
        "      return_prompt = False\n",
        "\n",
        "    if 'return_instruction' in kwargs:\n",
        "      return_instruction = kwargs['return_instruction']\n",
        "    else:\n",
        "      return_instruction = False\n",
        "\n",
        "    encoded_input = tokenizer.apply_chat_template(messages, tokenize = True,return_dict=True,return_tensors=\"pt\").to(self.device)\n",
        "    outputs = model.generate(\n",
        "        **encoded_input,\n",
        "        max_new_tokens=max_new_tokens,\n",
        "        temperature=temperature,\n",
        "        pad_token_id=tokenizer.eos_token_id,\n",
        "        eos_token_id=tokenizer.eos_token_id,\n",
        "       )\n",
        "    response = tokenizer.decode(outputs[0])\n",
        "    response = response.split('assistant<|end_header_id|>')[-1].strip().split('<|eot_id|>')[0].strip()\n",
        "    return response\n",
        "\n"
      ]
    },
    {
      "cell_type": "code",
      "execution_count": 46,
      "metadata": {
        "id": "2PD6JtGW7ZgD"
      },
      "outputs": [],
      "source": [
        "# unsloth/Llama-3.3-70B-Instruct-GGUF\n",
        "# meta-llama/Llama-3.2-11B-Vision-Instruct\n",
        "# mistralai/Mistral-7B-Instruct-v0.3"
      ]
    },
    {
      "cell_type": "code",
      "execution_count": 47,
      "metadata": {
        "id": "YuKuEMji7ZIu"
      },
      "outputs": [],
      "source": [
        "# unsloth/Llama-3.3-70B-Instruct-GGUF"
      ]
    },
    {
      "cell_type": "code",
      "execution_count": 48,
      "metadata": {
        "id": "uwJJogmqr2G7"
      },
      "outputs": [],
      "source": [
        "import torch\n",
        "import subprocess\n",
        "from functools import wraps\n",
        "from typing import Tuple\n",
        "from transformers import AutoModelForCausalLM, AutoTokenizer\n",
        "from transformers import BitsAndBytesConfig\n",
        "import os\n",
        "save_dir = 'loaded_model'\n",
        "\n",
        "def gpu_memory_decorator(func):\n",
        "    @wraps(func)\n",
        "    def wrapper(self, *args, **kwargs):\n",
        "        before_memory = self._get_gpu_memory()\n",
        "        print(f\"Available GPU Memory Before '{func.__name__}': {before_memory:.2f} MB\")\n",
        "\n",
        "        result = func(self, *args, **kwargs)\n",
        "\n",
        "        after_memory = self._get_gpu_memory()\n",
        "        print(f\"Available GPU Memory After '{func.__name__}': {after_memory:.2f} MB\")\n",
        "\n",
        "        return result\n",
        "    return wrapper\n",
        "\n",
        "class LLM:\n",
        "    def __init__(self, **kwargs) -> None:\n",
        "        if 'model_id' in kwargs:\n",
        "            self.model_id = kwargs['model_id']\n",
        "        else:\n",
        "            self.model_id = \"meta-llama/Llama-3.2-3b-Instruct\"\n",
        "\n",
        "        if 'device' in kwargs:\n",
        "            self.device = kwargs['device']\n",
        "        else:\n",
        "            self.device = \"cuda:0\" if torch.cuda.is_available() else \"cpu\"\n",
        "\n",
        "    def __call__(self) -> Tuple[AutoModelForCausalLM, AutoTokenizer]:\n",
        "        model, tokenizer = self.__get_model(self.model_id)\n",
        "        return model, tokenizer\n",
        "\n",
        "    @gpu_memory_decorator\n",
        "    def __get_model(self, model_id: str = 'meta-llama/Llama-3.2-3B-Instruct') -> Tuple[AutoModelForCausalLM, AutoTokenizer]:\n",
        "        if self._get_gpu_memory() <= 60000:\n",
        "          print(\"Loading Quantized Model\")\n",
        "          if os.path.exists(save_dir) and os.path.isdir(save_dir):\n",
        "            print(f\"Model found in '{save_dir}' directory. Loading model from there...\")\n",
        "            model = AutoModelForCausalLM.from_pretrained(save_dir)\n",
        "            tokenizer = AutoTokenizer.from_pretrained(save_dir)\n",
        "          else:\n",
        "            quantization_config = BitsAndBytesConfig(load_in_8bit=True,bnb_4bit_quant_type=\"nf4\",bnb_4bit_compute_dtype=torch.bfloat16)\n",
        "            print(f\"Model not found in '{save_dir}' directory. Loading from the model ID: {model_id}...\")\n",
        "            model = AutoModelForCausalLM.from_pretrained(\n",
        "                model_id,\n",
        "                device_map=\"auto\",\n",
        "                torch_dtype=torch.bfloat16,\n",
        "                quantization_config=quantization_config\n",
        "              )\n",
        "            # Load the tokenizer\n",
        "            tokenizer = AutoTokenizer.from_pretrained(model_id)\n",
        "\n",
        "          model.save_pretrained(save_dir, from_pt=True)\n",
        "          tokenizer.save_pretrained(save_dir)\n",
        "\n",
        "          return model, tokenizer\n",
        "        else:\n",
        "          print(\"Loading UnQuantized Model\")\n",
        "          model = AutoModelForCausalLM.from_pretrained(model_id, device_map=\"auto\", torch_dtype=torch.bfloat16)\n",
        "          tokenizer = AutoTokenizer.from_pretrained(model_id)\n",
        "          return model, tokenizer\n",
        "\n",
        "    def _get_gpu_memory(self) -> float:\n",
        "        result = subprocess.run(['nvidia-smi', '--query-gpu=memory.free', '--format=csv,noheader,nounits'],\n",
        "                                stdout=subprocess.PIPE, stderr=subprocess.PIPE)\n",
        "        memory_free = result.stdout.decode().strip()\n",
        "        try:\n",
        "            return float(memory_free)\n",
        "        except ValueError:\n",
        "            return 0.0\n"
      ]
    },
    {
      "cell_type": "code",
      "execution_count": 49,
      "metadata": {
        "id": "Xo65UtkE4ark",
        "colab": {
          "base_uri": "https://localhost:8080/"
        },
        "outputId": "22f527f5-c643-4c91-b6df-6ef84afe741a"
      },
      "outputs": [
        {
          "output_type": "stream",
          "name": "stderr",
          "text": [
            "Unused kwargs: ['_load_in_4bit', '_load_in_8bit', 'quant_method']. These kwargs are not used in <class 'transformers.utils.quantization_config.BitsAndBytesConfig'>.\n",
            "`low_cpu_mem_usage` was None, now default to True since model is quantized.\n"
          ]
        },
        {
          "output_type": "stream",
          "name": "stdout",
          "text": [
            "Available GPU Memory Before '__get_model': 11213.00 MB\n",
            "Loading Quantized Model\n",
            "Model found in 'loaded_model' directory. Loading model from there...\n",
            "Available GPU Memory After '__get_model': 7867.00 MB\n"
          ]
        }
      ],
      "source": [
        "llm= LLM()\n",
        "model,tokenizer = llm()\n"
      ]
    },
    {
      "cell_type": "code",
      "execution_count": 50,
      "metadata": {
        "id": "r4OuxxpFu9AK"
      },
      "outputs": [],
      "source": [
        "%%capture\n",
        "!pip install git+https://github.com/uiuc-focal-lab/syncode.gitpred['intent'].lower().strip()"
      ]
    },
    {
      "cell_type": "code",
      "execution_count": 51,
      "metadata": {
        "id": "cavPFJ7nu7nJ"
      },
      "outputs": [],
      "source": [
        "# from syncode import SyncodeLogitsProcessor"
      ]
    },
    {
      "cell_type": "code",
      "execution_count": 52,
      "metadata": {
        "id": "XoMsxL8fvocD",
        "colab": {
          "base_uri": "https://localhost:8080/"
        },
        "outputId": "fff7666a-9c0e-4346-a1dc-e2fa0996ce7b"
      },
      "outputs": [
        {
          "output_type": "execute_result",
          "data": {
            "text/plain": [
              "GenerationConfig {\n",
              "  \"bos_token_id\": 128000,\n",
              "  \"do_sample\": true,\n",
              "  \"eos_token_id\": [\n",
              "    128001,\n",
              "    128008,\n",
              "    128009\n",
              "  ],\n",
              "  \"temperature\": 0.6,\n",
              "  \"top_p\": 0.9\n",
              "}"
            ]
          },
          "metadata": {},
          "execution_count": 52
        }
      ],
      "source": [
        "model.generation_config"
      ]
    },
    {
      "cell_type": "code",
      "execution_count": 53,
      "metadata": {
        "id": "CIuTwScj0CO3",
        "colab": {
          "base_uri": "https://localhost:8080/"
        },
        "outputId": "1aa40fcd-fb8c-458e-af4d-b777d7365ef3"
      },
      "outputs": [
        {
          "output_type": "stream",
          "name": "stdout",
          "text": [
            "Response: Is there something specific you'd like to talk about or ask about? I'm here to help with any questions or topics you'd like to discuss.\n"
          ]
        }
      ],
      "source": [
        "chat = ChatCompletion(model=model, tokenizer=tokenizer)\n",
        "\n",
        "messages = [\n",
        "    {\"role\": \"user\", \"content\": \"Hello! How are you?\"},\n",
        "    {\"role\": \"assistant\", \"content\": \"I'm good, thank you! How can I assist you today?\"}\n",
        "]\n",
        "\n",
        "response = chat.create(messages)\n",
        "print(\"Response:\", response)"
      ]
    },
    {
      "cell_type": "code",
      "execution_count": 54,
      "metadata": {
        "id": "S4atfj-IUqST"
      },
      "outputs": [],
      "source": [
        "import json\n",
        "\n",
        "def get_intent(model, tokenizer, system_message, query,device):\n",
        "  \"\"\"\n",
        "  Extracts intent from the model's response.\n",
        "\n",
        "  Args:\n",
        "    model: The pre-trained language model.\n",
        "    tokenizer: The tokenizer associated with the model.\n",
        "    system_message: The system message for the chat.\n",
        "    device: The device to run the model on (e.g., 'cuda' or 'cpu').\n",
        "\n",
        "  Returns:\n",
        "    A dictionary representing the extracted intent.\n",
        "  \"\"\"\n",
        "  messages = [\n",
        "      system_message,\n",
        "      {\"role\": \"user\", \"content\": query},\n",
        "  ]\n",
        "  encoded_input = tokenizer.apply_chat_template(messages, tokenize = True,return_dict=True,return_tensors=\"pt\").to(device)\n",
        "  outputs = model.generate(\n",
        "      **encoded_input,\n",
        "      max_new_tokens=50,\n",
        "      temperature=0.6,\n",
        "      pad_token_id=tokenizer.eos_token_id,\n",
        "      eos_token_id=tokenizer.eos_token_id,\n",
        "      )\n",
        "  output = tokenizer.decode(outputs[0])\n",
        "  intent_pred = output.split('assistant<|end_header_id|>')[-1].strip().split('<|eot_id|>')[0].strip()\n",
        "\n",
        "  try:\n",
        "    intent_pred = json.loads(intent_pred)\n",
        "  except Exception as e:\n",
        "    print(f\"Error parsing initial response: {e}\\n{intent_pred}\")\n",
        "    messages = [\n",
        "        {\"role\":'assistant','content':intent_pred},\n",
        "        {\"role\": \"user\", \"content\": f\"In your previous response {intent_pred} got this error {str(e)} \\n make sure it is json response so that is should consume by automated system.Do not generate anything apart from json output as keys and value as same as {intent_pred}\"},\n",
        "    ]\n",
        "    encoded_input = tokenizer.apply_chat_template(messages, tokenize = True,return_dict=True,return_tensors=\"pt\").to(device)\n",
        "    outputs = model.generate(\n",
        "        **encoded_input,\n",
        "        max_new_tokens=50,\n",
        "        temperature=0.6,\n",
        "        pad_token_id=tokenizer.eos_token_id,\n",
        "        eos_token_id=tokenizer.eos_token_id,\n",
        "        )\n",
        "    output = tokenizer.decode(outputs[0])\n",
        "    intent_pred = output.split('assistant<|end_header_id|>')[-1].strip().split('<|eot_id|>')[0].strip()\n",
        "    print(f\"Corrected response: {intent_pred}\")\n",
        "\n",
        "    try:\n",
        "      intent_pred = json.loads(intent_pred)\n",
        "    except:\n",
        "      intent_pred = {'intent':'other'}\n",
        "\n",
        "  return intent_pred\n",
        "\n",
        "# intent = get_intent(model, tokenizer, system_message, model.device)\n",
        "# print(\"Extracted Intent:\", intent)"
      ]
    },
    {
      "cell_type": "code",
      "execution_count": 55,
      "metadata": {
        "id": "cyIJxVmn0Qth",
        "colab": {
          "base_uri": "https://localhost:8080/"
        },
        "outputId": "b534af5d-f43b-44e6-e8dd-1571c01f4811"
      },
      "outputs": [
        {
          "output_type": "stream",
          "name": "stdout",
          "text": [
            "I have a headache and a fever, what could it be? healthcare healthcare\n",
            "My throat is really sore and I'm coughing, what should I do? healthcare healthcare\n",
            "I woke up with a rash all over my body, is this contagious? healthcare healthcare\n",
            "I've been feeling dizzy and nauseous lately, what could be the cause? healthcare healthcare\n",
            "Can I book an appointment with Dr. Smith next Tuesday? healthcare healthcare\n",
            "I need to see a cardiologist, how do I schedule a consultation? healthcare healthcare\n",
            "What are the available slots for a pediatric dentist next week? healthcare healthcare\n",
            "I need to reschedule my appointment with Dr. Jones, what should I do? healthcare healthcare\n",
            "What are the side effects of ibuprofen? healthcare healthcare\n",
            "Can I take this medication with antibiotics? healthcare healthcare\n",
            "How long does it take for this medication to start working? healthcare healthcare\n",
            "What is the dosage for this medicine for children? healthcare healthcare\n",
            "What are the visiting hours for XYZ Hospital? healthcare healthcare\n",
            "Is there a pharmacy in ABC Hospital? healthcare healthcare\n",
            "How do I get to DEF Hospital from my location? healthcare healthcare\n",
            "Does this hospital have an emergency department? healthcare healthcare\n",
            "What are the different types of health checkups available? healthcare healthcare\n",
            "How much does a full body checkup cost? healthcare healthcare\n",
            "Does your health insurance cover preventive checkups? insurance healthcare\n",
            "I want to book a diabetes screening test, how do I proceed? healthcare healthcare\n",
            "What is the coverage for my car insurance? insurance insurance\n",
            "Does my health insurance cover pre-existing conditions? insurance insurance\n",
            "What are the different types of life insurance policies available? insurance insurance\n",
            "What is the deductible for my home insurance? insurance insurance\n",
            "How do I file a claim for a car accident? insurance insurance\n",
            "What documents are required to file a health insurance claim? insurance insurance\n",
            "My car was stolen, how do I file a claim? insurance insurance\n",
            "I need to submit a claim for a dental procedure, what are the steps? insurance insurance\n",
            "What are the different payment options for my insurance premium? finance insurance\n",
            "When is my next premium due? finance insurance\n",
            "Can I pay my premium online? insurance insurance\n",
            "What happens if I miss a premium payment? insurance insurance\n",
            "Is physiotherapy covered under my health insurance? insurance insurance\n",
            "Does my travel insurance cover lost luggage? insurance insurance\n",
            "Is cosmetic surgery covered by my health plan? insurance insurance\n",
            "Will my car insurance cover damage caused by a flood? insurance insurance\n",
            "What are the best mutual funds to invest in for long-term growth? finance finance\n",
            "Should I invest in stocks or bonds right now? finance finance\n",
            "What are the risks and rewards of investing in cryptocurrency? finance finance\n",
            "How can I start investing in the stock market? finance finance\n",
            "What are the eligibility criteria for a personal loan? finance finance\n",
            "How do I apply for a home loan online? retail finance\n",
            "What documents are required for a car loan application? finance finance\n",
            "What is the interest rate on a student loan? finance finance\n",
            "My credit card is not working, what should I do? finance finance\n",
            "How do I dispute a transaction on my credit card? insurance finance\n",
            "What are the fees associated with my credit card? finance finance\n",
            "I suspect fraudulent activity on my credit card, what steps should I take? insurance finance\n",
            "How can I save money on my groceries? finance finance\n",
            "What are some tips for creating a budget? finance finance\n",
            "How can I reduce my monthly expenses? finance finance\n",
            "What are some high-yield savings accounts? finance finance\n",
            "Is the new Samsung phone available in stock? retail retail\n",
            "Do you have any red t-shirts in size medium? retail retail\n",
            "Is this product available for delivery to my address? retail retail\n",
            "When will this item be back in stock? retail retail\n",
            "What is the price of this laptop? retail retail\n",
            "Are there any discounts available on this item? retail retail\n",
            "What is the price difference between these two models? finance retail\n",
            "Do you offer any price matching? retail retail\n",
            "How do I track my order? retail retail\n",
            "What is the status of my delivery? retail retail\n",
            "When can I expect my order to arrive? retail retail\n",
            "Why is my order delayed? retail retail\n",
            "How do I return an item? retail retail\n",
            "What is the return policy for this product? retail retail\n",
            "How long does it take to get a refund? retail retail\n",
            "Can I exchange this item for a different size? retail retail\n",
            "Accuracy >- 0.8970588235294118\n"
          ]
        }
      ],
      "source": [
        "acc = 0\n",
        "preds = []\n",
        "for i,row in examples_df.iterrows():\n",
        "  pred = get_intent(model, tokenizer, system_message, row['Examples'],model.device)\n",
        "  if pred['intent'].lower().strip() == row['Intent'].lower().strip():\n",
        "    acc += 1\n",
        "  print(row['Examples'],pred['intent'].lower().strip(),row['Intent'])\n",
        "  preds.append(pred['intent'].lower().strip())\n",
        "print(f\"Accuracy >- {acc/examples_df.shape[0]}\")\n"
      ]
    },
    {
      "cell_type": "code",
      "execution_count": 56,
      "metadata": {
        "id": "E2no5xRU265G",
        "colab": {
          "base_uri": "https://localhost:8080/"
        },
        "outputId": "cee4d2e2-8335-4526-d769-cb0bccb60ea4"
      },
      "outputs": [
        {
          "output_type": "execute_result",
          "data": {
            "text/plain": [
              "61"
            ]
          },
          "metadata": {},
          "execution_count": 56
        }
      ],
      "source": [
        "acc"
      ]
    },
    {
      "cell_type": "code",
      "execution_count": 57,
      "metadata": {
        "id": "k7DR0LNX7-Q5"
      },
      "outputs": [],
      "source": [
        "%%capture\n",
        "!pip install gradio\n"
      ]
    },
    {
      "cell_type": "code",
      "source": [
        "system_prompt = \"\"\"\n",
        "You are an intelligent virtual assistant designed to assist users with queries in the following domains:\n",
        "\n",
        "1. **Healthcare**: Answer questions about symptoms, treatments, medications, appointments ,etc and related to healthcare.\n",
        "2. **Insurance**: Provide information on policies, claims, and coverage details and related to insurance industry.\n",
        "3. **Finance**: Respond to queries about investments, loans, credit cards,etc and related to finance.\n",
        "4. **Retail**: Assist with product availability, pricing, and order tracking etc related to retail industry.\n",
        "\n",
        "---\n",
        "\n",
        "**Out-of-Domain Handling**:\n",
        "For queries outside these domains, respond with:\n",
        "**\"I can only assist with queries related to Healthcare, Insurance, Finance, or Retail.\"**\n",
        "\n",
        "---\n",
        "\n",
        "**Tone and Style**:\n",
        "- Be professional, clear, and concise.\n",
        "- Use simple language, especially for complex queries.\n",
        "- Maintain a helpful and empathetic tone in sensitive topics like healthcare.\n",
        "\n",
        "---\n",
        "\n",
        "**Key Guidelines**:\n",
        "- Provide accurate, verified information.\n",
        "- For complex queries, break down responses into easy-to-understand steps.\n",
        "- Prioritize user privacy—do not ask for sensitive personal details.\n",
        "\"\"\"\n"
      ],
      "metadata": {
        "id": "FNfsGtgFJwje"
      },
      "execution_count": 58,
      "outputs": []
    },
    {
      "cell_type": "code",
      "source": [
        "prompt_template.chatbot_prompt = system_prompt\n",
        "prompt_template.format()"
      ],
      "metadata": {
        "colab": {
          "base_uri": "https://localhost:8080/"
        },
        "id": "ZzVJDQhVKtVh",
        "outputId": "d63e5d17-4587-4579-ae61-63be1401cb0c"
      },
      "execution_count": 59,
      "outputs": [
        {
          "output_type": "execute_result",
          "data": {
            "text/plain": [
              "{'role': 'system',\n",
              " 'content': '\\nYou are an intelligent virtual assistant designed to assist users with queries in the following domains:\\n\\n1. **Healthcare**: Answer questions about symptoms, treatments, medications, appointments ,etc and related to healthcare.\\n2. **Insurance**: Provide information on policies, claims, and coverage details and related to insurance industry.\\n3. **Finance**: Respond to queries about investments, loans, credit cards,etc and related to finance.\\n4. **Retail**: Assist with product availability, pricing, and order tracking etc related to retail industry.\\n\\n---\\n\\n**Out-of-Domain Handling**:\\nFor queries outside these domains, respond with:\\n**\"I can only assist with queries related to Healthcare, Insurance, Finance, or Retail.\"**\\n\\n---\\n\\n**Tone and Style**:\\n- Be professional, clear, and concise.\\n- Use simple language, especially for complex queries.\\n- Maintain a helpful and empathetic tone in sensitive topics like healthcare.\\n\\n---\\n\\n**Key Guidelines**:\\n- Provide accurate, verified information.\\n- For complex queries, break down responses into easy-to-understand steps.\\n- Prioritize user privacy—do not ask for sensitive personal details.\\n'}"
            ]
          },
          "metadata": {},
          "execution_count": 59
        }
      ]
    },
    {
      "cell_type": "code",
      "source": [
        "import gradio as gr\n",
        "\n",
        "chat_history = ChatHistory()\n",
        "chat = ChatCompletion(model=model, tokenizer=tokenizer)\n",
        "prompt_template.chatbot_prompt = system_prompt\n",
        "bot_prpmt = prompt_template.format()\n",
        "def chatbot_response(user_input: str):\n",
        "    chat_history.add_message(\"user\", user_input)\n",
        "\n",
        "    messages = [bot_prpmt]+chat_history.chat_history\n",
        "\n",
        "    bot_response = chat.create(messages)\n",
        "\n",
        "    chat_history.add_message(\"assistant\", bot_response)\n",
        "\n",
        "    full_chat_history = \"\\n\".join([f\"{msg['role'].capitalize()}: {msg['content']}\" for msg in chat_history.get_chat_history()])\n",
        "\n",
        "    return full_chat_history, bot_response\n",
        "\n"
      ],
      "metadata": {
        "id": "fYq9tiRhIWSr"
      },
      "execution_count": 60,
      "outputs": []
    },
    {
      "cell_type": "code",
      "source": [
        "# chatbot_response('hi')"
      ],
      "metadata": {
        "id": "GsBfiz89MLmh"
      },
      "execution_count": 61,
      "outputs": []
    },
    {
      "cell_type": "code",
      "source": [
        "iface = gr.Interface(\n",
        "    fn=chatbot_response,\n",
        "    inputs=[\n",
        "        gr.Textbox(label=\"Your Message\", placeholder=\"Type a message...\", lines=2),\n",
        "        # gr.Textbox(label=\"Chat History\", placeholder=\"Chat history will appear here...\", lines=10, interactive=False)\n",
        "    ],\n",
        "    outputs=[\n",
        "        gr.Textbox(label=\"Chat History\", placeholder=\"Chat history will appear here...\", lines=10, interactive=False),\n",
        "        gr.Textbox(label=\"Bot Response\", placeholder=\"Response from the bot...\", lines=2, interactive=False)\n",
        "    ],\n",
        "    live=False,\n",
        "    title=\"Chatbot Interface\",\n",
        "    description=\"Chat with the bot. Type your message and click Submit to get a response.\"\n",
        ")\n",
        "iface.launch()"
      ],
      "metadata": {
        "colab": {
          "base_uri": "https://localhost:8080/",
          "height": 646
        },
        "id": "JldzZVJSLrd_",
        "outputId": "7aad9185-25de-4c24-fcbe-332eb4ec73fa"
      },
      "execution_count": 62,
      "outputs": [
        {
          "output_type": "stream",
          "name": "stdout",
          "text": [
            "Running Gradio in a Colab notebook requires sharing enabled. Automatically setting `share=True` (you can turn this off by setting `share=False` in `launch()` explicitly).\n",
            "\n",
            "Colab notebook detected. To show errors in colab notebook, set debug=True in launch()\n",
            "* Running on public URL: https://ff9f632e2b12153fbd.gradio.live\n",
            "\n",
            "This share link expires in 72 hours. For free permanent hosting and GPU upgrades, run `gradio deploy` from the terminal in the working directory to deploy to Hugging Face Spaces (https://huggingface.co/spaces)\n"
          ]
        },
        {
          "output_type": "display_data",
          "data": {
            "text/plain": [
              "<IPython.core.display.HTML object>"
            ],
            "text/html": [
              "<div><iframe src=\"https://ff9f632e2b12153fbd.gradio.live\" width=\"100%\" height=\"500\" allow=\"autoplay; camera; microphone; clipboard-read; clipboard-write;\" frameborder=\"0\" allowfullscreen></iframe></div>"
            ]
          },
          "metadata": {}
        },
        {
          "output_type": "execute_result",
          "data": {
            "text/plain": []
          },
          "metadata": {},
          "execution_count": 62
        }
      ]
    },
    {
      "cell_type": "code",
      "source": [],
      "metadata": {
        "id": "-6BftbVqMi6z"
      },
      "execution_count": 62,
      "outputs": []
    }
  ],
  "metadata": {
    "accelerator": "GPU",
    "colab": {
      "gpuType": "T4",
      "provenance": [],
      "include_colab_link": true
    },
    "kernelspec": {
      "display_name": "Python 3",
      "name": "python3"
    },
    "language_info": {
      "name": "python"
    },
    "widgets": {
      "application/vnd.jupyter.widget-state+json": {
        "a65f01fbe7064f32b68b5bea86f2b19f": {
          "model_module": "@jupyter-widgets/controls",
          "model_name": "VBoxModel",
          "model_module_version": "1.5.0",
          "state": {
            "_dom_classes": [],
            "_model_module": "@jupyter-widgets/controls",
            "_model_module_version": "1.5.0",
            "_model_name": "VBoxModel",
            "_view_count": null,
            "_view_module": "@jupyter-widgets/controls",
            "_view_module_version": "1.5.0",
            "_view_name": "VBoxView",
            "box_style": "",
            "children": [],
            "layout": "IPY_MODEL_2b76e90888b64074ac3e30078ee0cc56"
          }
        },
        "df63172a15854c0e9d8b290e0cd15db1": {
          "model_module": "@jupyter-widgets/controls",
          "model_name": "HTMLModel",
          "model_module_version": "1.5.0",
          "state": {
            "_dom_classes": [],
            "_model_module": "@jupyter-widgets/controls",
            "_model_module_version": "1.5.0",
            "_model_name": "HTMLModel",
            "_view_count": null,
            "_view_module": "@jupyter-widgets/controls",
            "_view_module_version": "1.5.0",
            "_view_name": "HTMLView",
            "description": "",
            "description_tooltip": null,
            "layout": "IPY_MODEL_97c14e69b8264d01a863f50d6e038d98",
            "placeholder": "​",
            "style": "IPY_MODEL_3441f374ca0447298bb2921c0ad5f14e",
            "value": "<center> <img\nsrc=https://huggingface.co/front/assets/huggingface_logo-noborder.svg\nalt='Hugging Face'> <br> Copy a token from <a\nhref=\"https://huggingface.co/settings/tokens\" target=\"_blank\">your Hugging Face\ntokens page</a> and paste it below. <br> Immediately click login after copying\nyour token or it might be stored in plain text in this notebook file. </center>"
          }
        },
        "854dc4ab71104966ba8ded7454e56f3f": {
          "model_module": "@jupyter-widgets/controls",
          "model_name": "PasswordModel",
          "model_module_version": "1.5.0",
          "state": {
            "_dom_classes": [],
            "_model_module": "@jupyter-widgets/controls",
            "_model_module_version": "1.5.0",
            "_model_name": "PasswordModel",
            "_view_count": null,
            "_view_module": "@jupyter-widgets/controls",
            "_view_module_version": "1.5.0",
            "_view_name": "PasswordView",
            "continuous_update": true,
            "description": "Token:",
            "description_tooltip": null,
            "disabled": false,
            "layout": "IPY_MODEL_316c13df25a941eda261ef02369cbfe9",
            "placeholder": "​",
            "style": "IPY_MODEL_bb67ef2832cc49e4bc80f2ed0fb48f0f",
            "value": ""
          }
        },
        "3dcb629619ac45598a441afe459f1b32": {
          "model_module": "@jupyter-widgets/controls",
          "model_name": "CheckboxModel",
          "model_module_version": "1.5.0",
          "state": {
            "_dom_classes": [],
            "_model_module": "@jupyter-widgets/controls",
            "_model_module_version": "1.5.0",
            "_model_name": "CheckboxModel",
            "_view_count": null,
            "_view_module": "@jupyter-widgets/controls",
            "_view_module_version": "1.5.0",
            "_view_name": "CheckboxView",
            "description": "Add token as git credential?",
            "description_tooltip": null,
            "disabled": false,
            "indent": true,
            "layout": "IPY_MODEL_be02dc7509364494899c0d988c3d308e",
            "style": "IPY_MODEL_dbaac6ec2f9e401e83d86a1c9c3dfa50",
            "value": true
          }
        },
        "54e938d0921746cd961e2387f16f1ed9": {
          "model_module": "@jupyter-widgets/controls",
          "model_name": "ButtonModel",
          "model_module_version": "1.5.0",
          "state": {
            "_dom_classes": [],
            "_model_module": "@jupyter-widgets/controls",
            "_model_module_version": "1.5.0",
            "_model_name": "ButtonModel",
            "_view_count": null,
            "_view_module": "@jupyter-widgets/controls",
            "_view_module_version": "1.5.0",
            "_view_name": "ButtonView",
            "button_style": "",
            "description": "Login",
            "disabled": false,
            "icon": "",
            "layout": "IPY_MODEL_5a0eaba3fa3e4d10b4bb48bbfb9f7e15",
            "style": "IPY_MODEL_31e0e743bad34789be476f27dc88b778",
            "tooltip": ""
          }
        },
        "d46d7ecec7ca46c88687cddc18ee8045": {
          "model_module": "@jupyter-widgets/controls",
          "model_name": "HTMLModel",
          "model_module_version": "1.5.0",
          "state": {
            "_dom_classes": [],
            "_model_module": "@jupyter-widgets/controls",
            "_model_module_version": "1.5.0",
            "_model_name": "HTMLModel",
            "_view_count": null,
            "_view_module": "@jupyter-widgets/controls",
            "_view_module_version": "1.5.0",
            "_view_name": "HTMLView",
            "description": "",
            "description_tooltip": null,
            "layout": "IPY_MODEL_69283841ab6243fa93fb59bd5d993af6",
            "placeholder": "​",
            "style": "IPY_MODEL_6e6c54fa0f2648ddbbb693aa8a68148d",
            "value": "\n<b>Pro Tip:</b> If you don't already have one, you can create a dedicated\n'notebooks' token with 'write' access, that you can then easily reuse for all\nnotebooks. </center>"
          }
        },
        "2b76e90888b64074ac3e30078ee0cc56": {
          "model_module": "@jupyter-widgets/base",
          "model_name": "LayoutModel",
          "model_module_version": "1.2.0",
          "state": {
            "_model_module": "@jupyter-widgets/base",
            "_model_module_version": "1.2.0",
            "_model_name": "LayoutModel",
            "_view_count": null,
            "_view_module": "@jupyter-widgets/base",
            "_view_module_version": "1.2.0",
            "_view_name": "LayoutView",
            "align_content": null,
            "align_items": "center",
            "align_self": null,
            "border": null,
            "bottom": null,
            "display": "flex",
            "flex": null,
            "flex_flow": "column",
            "grid_area": null,
            "grid_auto_columns": null,
            "grid_auto_flow": null,
            "grid_auto_rows": null,
            "grid_column": null,
            "grid_gap": null,
            "grid_row": null,
            "grid_template_areas": null,
            "grid_template_columns": null,
            "grid_template_rows": null,
            "height": null,
            "justify_content": null,
            "justify_items": null,
            "left": null,
            "margin": null,
            "max_height": null,
            "max_width": null,
            "min_height": null,
            "min_width": null,
            "object_fit": null,
            "object_position": null,
            "order": null,
            "overflow": null,
            "overflow_x": null,
            "overflow_y": null,
            "padding": null,
            "right": null,
            "top": null,
            "visibility": null,
            "width": "50%"
          }
        },
        "97c14e69b8264d01a863f50d6e038d98": {
          "model_module": "@jupyter-widgets/base",
          "model_name": "LayoutModel",
          "model_module_version": "1.2.0",
          "state": {
            "_model_module": "@jupyter-widgets/base",
            "_model_module_version": "1.2.0",
            "_model_name": "LayoutModel",
            "_view_count": null,
            "_view_module": "@jupyter-widgets/base",
            "_view_module_version": "1.2.0",
            "_view_name": "LayoutView",
            "align_content": null,
            "align_items": null,
            "align_self": null,
            "border": null,
            "bottom": null,
            "display": null,
            "flex": null,
            "flex_flow": null,
            "grid_area": null,
            "grid_auto_columns": null,
            "grid_auto_flow": null,
            "grid_auto_rows": null,
            "grid_column": null,
            "grid_gap": null,
            "grid_row": null,
            "grid_template_areas": null,
            "grid_template_columns": null,
            "grid_template_rows": null,
            "height": null,
            "justify_content": null,
            "justify_items": null,
            "left": null,
            "margin": null,
            "max_height": null,
            "max_width": null,
            "min_height": null,
            "min_width": null,
            "object_fit": null,
            "object_position": null,
            "order": null,
            "overflow": null,
            "overflow_x": null,
            "overflow_y": null,
            "padding": null,
            "right": null,
            "top": null,
            "visibility": null,
            "width": null
          }
        },
        "3441f374ca0447298bb2921c0ad5f14e": {
          "model_module": "@jupyter-widgets/controls",
          "model_name": "DescriptionStyleModel",
          "model_module_version": "1.5.0",
          "state": {
            "_model_module": "@jupyter-widgets/controls",
            "_model_module_version": "1.5.0",
            "_model_name": "DescriptionStyleModel",
            "_view_count": null,
            "_view_module": "@jupyter-widgets/base",
            "_view_module_version": "1.2.0",
            "_view_name": "StyleView",
            "description_width": ""
          }
        },
        "316c13df25a941eda261ef02369cbfe9": {
          "model_module": "@jupyter-widgets/base",
          "model_name": "LayoutModel",
          "model_module_version": "1.2.0",
          "state": {
            "_model_module": "@jupyter-widgets/base",
            "_model_module_version": "1.2.0",
            "_model_name": "LayoutModel",
            "_view_count": null,
            "_view_module": "@jupyter-widgets/base",
            "_view_module_version": "1.2.0",
            "_view_name": "LayoutView",
            "align_content": null,
            "align_items": null,
            "align_self": null,
            "border": null,
            "bottom": null,
            "display": null,
            "flex": null,
            "flex_flow": null,
            "grid_area": null,
            "grid_auto_columns": null,
            "grid_auto_flow": null,
            "grid_auto_rows": null,
            "grid_column": null,
            "grid_gap": null,
            "grid_row": null,
            "grid_template_areas": null,
            "grid_template_columns": null,
            "grid_template_rows": null,
            "height": null,
            "justify_content": null,
            "justify_items": null,
            "left": null,
            "margin": null,
            "max_height": null,
            "max_width": null,
            "min_height": null,
            "min_width": null,
            "object_fit": null,
            "object_position": null,
            "order": null,
            "overflow": null,
            "overflow_x": null,
            "overflow_y": null,
            "padding": null,
            "right": null,
            "top": null,
            "visibility": null,
            "width": null
          }
        },
        "bb67ef2832cc49e4bc80f2ed0fb48f0f": {
          "model_module": "@jupyter-widgets/controls",
          "model_name": "DescriptionStyleModel",
          "model_module_version": "1.5.0",
          "state": {
            "_model_module": "@jupyter-widgets/controls",
            "_model_module_version": "1.5.0",
            "_model_name": "DescriptionStyleModel",
            "_view_count": null,
            "_view_module": "@jupyter-widgets/base",
            "_view_module_version": "1.2.0",
            "_view_name": "StyleView",
            "description_width": ""
          }
        },
        "be02dc7509364494899c0d988c3d308e": {
          "model_module": "@jupyter-widgets/base",
          "model_name": "LayoutModel",
          "model_module_version": "1.2.0",
          "state": {
            "_model_module": "@jupyter-widgets/base",
            "_model_module_version": "1.2.0",
            "_model_name": "LayoutModel",
            "_view_count": null,
            "_view_module": "@jupyter-widgets/base",
            "_view_module_version": "1.2.0",
            "_view_name": "LayoutView",
            "align_content": null,
            "align_items": null,
            "align_self": null,
            "border": null,
            "bottom": null,
            "display": null,
            "flex": null,
            "flex_flow": null,
            "grid_area": null,
            "grid_auto_columns": null,
            "grid_auto_flow": null,
            "grid_auto_rows": null,
            "grid_column": null,
            "grid_gap": null,
            "grid_row": null,
            "grid_template_areas": null,
            "grid_template_columns": null,
            "grid_template_rows": null,
            "height": null,
            "justify_content": null,
            "justify_items": null,
            "left": null,
            "margin": null,
            "max_height": null,
            "max_width": null,
            "min_height": null,
            "min_width": null,
            "object_fit": null,
            "object_position": null,
            "order": null,
            "overflow": null,
            "overflow_x": null,
            "overflow_y": null,
            "padding": null,
            "right": null,
            "top": null,
            "visibility": null,
            "width": null
          }
        },
        "dbaac6ec2f9e401e83d86a1c9c3dfa50": {
          "model_module": "@jupyter-widgets/controls",
          "model_name": "DescriptionStyleModel",
          "model_module_version": "1.5.0",
          "state": {
            "_model_module": "@jupyter-widgets/controls",
            "_model_module_version": "1.5.0",
            "_model_name": "DescriptionStyleModel",
            "_view_count": null,
            "_view_module": "@jupyter-widgets/base",
            "_view_module_version": "1.2.0",
            "_view_name": "StyleView",
            "description_width": ""
          }
        },
        "5a0eaba3fa3e4d10b4bb48bbfb9f7e15": {
          "model_module": "@jupyter-widgets/base",
          "model_name": "LayoutModel",
          "model_module_version": "1.2.0",
          "state": {
            "_model_module": "@jupyter-widgets/base",
            "_model_module_version": "1.2.0",
            "_model_name": "LayoutModel",
            "_view_count": null,
            "_view_module": "@jupyter-widgets/base",
            "_view_module_version": "1.2.0",
            "_view_name": "LayoutView",
            "align_content": null,
            "align_items": null,
            "align_self": null,
            "border": null,
            "bottom": null,
            "display": null,
            "flex": null,
            "flex_flow": null,
            "grid_area": null,
            "grid_auto_columns": null,
            "grid_auto_flow": null,
            "grid_auto_rows": null,
            "grid_column": null,
            "grid_gap": null,
            "grid_row": null,
            "grid_template_areas": null,
            "grid_template_columns": null,
            "grid_template_rows": null,
            "height": null,
            "justify_content": null,
            "justify_items": null,
            "left": null,
            "margin": null,
            "max_height": null,
            "max_width": null,
            "min_height": null,
            "min_width": null,
            "object_fit": null,
            "object_position": null,
            "order": null,
            "overflow": null,
            "overflow_x": null,
            "overflow_y": null,
            "padding": null,
            "right": null,
            "top": null,
            "visibility": null,
            "width": null
          }
        },
        "31e0e743bad34789be476f27dc88b778": {
          "model_module": "@jupyter-widgets/controls",
          "model_name": "ButtonStyleModel",
          "model_module_version": "1.5.0",
          "state": {
            "_model_module": "@jupyter-widgets/controls",
            "_model_module_version": "1.5.0",
            "_model_name": "ButtonStyleModel",
            "_view_count": null,
            "_view_module": "@jupyter-widgets/base",
            "_view_module_version": "1.2.0",
            "_view_name": "StyleView",
            "button_color": null,
            "font_weight": ""
          }
        },
        "69283841ab6243fa93fb59bd5d993af6": {
          "model_module": "@jupyter-widgets/base",
          "model_name": "LayoutModel",
          "model_module_version": "1.2.0",
          "state": {
            "_model_module": "@jupyter-widgets/base",
            "_model_module_version": "1.2.0",
            "_model_name": "LayoutModel",
            "_view_count": null,
            "_view_module": "@jupyter-widgets/base",
            "_view_module_version": "1.2.0",
            "_view_name": "LayoutView",
            "align_content": null,
            "align_items": null,
            "align_self": null,
            "border": null,
            "bottom": null,
            "display": null,
            "flex": null,
            "flex_flow": null,
            "grid_area": null,
            "grid_auto_columns": null,
            "grid_auto_flow": null,
            "grid_auto_rows": null,
            "grid_column": null,
            "grid_gap": null,
            "grid_row": null,
            "grid_template_areas": null,
            "grid_template_columns": null,
            "grid_template_rows": null,
            "height": null,
            "justify_content": null,
            "justify_items": null,
            "left": null,
            "margin": null,
            "max_height": null,
            "max_width": null,
            "min_height": null,
            "min_width": null,
            "object_fit": null,
            "object_position": null,
            "order": null,
            "overflow": null,
            "overflow_x": null,
            "overflow_y": null,
            "padding": null,
            "right": null,
            "top": null,
            "visibility": null,
            "width": null
          }
        },
        "6e6c54fa0f2648ddbbb693aa8a68148d": {
          "model_module": "@jupyter-widgets/controls",
          "model_name": "DescriptionStyleModel",
          "model_module_version": "1.5.0",
          "state": {
            "_model_module": "@jupyter-widgets/controls",
            "_model_module_version": "1.5.0",
            "_model_name": "DescriptionStyleModel",
            "_view_count": null,
            "_view_module": "@jupyter-widgets/base",
            "_view_module_version": "1.2.0",
            "_view_name": "StyleView",
            "description_width": ""
          }
        },
        "abeb493e0ceb4b7b8a7a5dbcc5b0b500": {
          "model_module": "@jupyter-widgets/controls",
          "model_name": "LabelModel",
          "model_module_version": "1.5.0",
          "state": {
            "_dom_classes": [],
            "_model_module": "@jupyter-widgets/controls",
            "_model_module_version": "1.5.0",
            "_model_name": "LabelModel",
            "_view_count": null,
            "_view_module": "@jupyter-widgets/controls",
            "_view_module_version": "1.5.0",
            "_view_name": "LabelView",
            "description": "",
            "description_tooltip": null,
            "layout": "IPY_MODEL_5901e9b6cc9f469ca7aa5cffa0944baf",
            "placeholder": "​",
            "style": "IPY_MODEL_d01fa789c7414e42bc08550aab434211",
            "value": "Connecting..."
          }
        },
        "5901e9b6cc9f469ca7aa5cffa0944baf": {
          "model_module": "@jupyter-widgets/base",
          "model_name": "LayoutModel",
          "model_module_version": "1.2.0",
          "state": {
            "_model_module": "@jupyter-widgets/base",
            "_model_module_version": "1.2.0",
            "_model_name": "LayoutModel",
            "_view_count": null,
            "_view_module": "@jupyter-widgets/base",
            "_view_module_version": "1.2.0",
            "_view_name": "LayoutView",
            "align_content": null,
            "align_items": null,
            "align_self": null,
            "border": null,
            "bottom": null,
            "display": null,
            "flex": null,
            "flex_flow": null,
            "grid_area": null,
            "grid_auto_columns": null,
            "grid_auto_flow": null,
            "grid_auto_rows": null,
            "grid_column": null,
            "grid_gap": null,
            "grid_row": null,
            "grid_template_areas": null,
            "grid_template_columns": null,
            "grid_template_rows": null,
            "height": null,
            "justify_content": null,
            "justify_items": null,
            "left": null,
            "margin": null,
            "max_height": null,
            "max_width": null,
            "min_height": null,
            "min_width": null,
            "object_fit": null,
            "object_position": null,
            "order": null,
            "overflow": null,
            "overflow_x": null,
            "overflow_y": null,
            "padding": null,
            "right": null,
            "top": null,
            "visibility": null,
            "width": null
          }
        },
        "d01fa789c7414e42bc08550aab434211": {
          "model_module": "@jupyter-widgets/controls",
          "model_name": "DescriptionStyleModel",
          "model_module_version": "1.5.0",
          "state": {
            "_model_module": "@jupyter-widgets/controls",
            "_model_module_version": "1.5.0",
            "_model_name": "DescriptionStyleModel",
            "_view_count": null,
            "_view_module": "@jupyter-widgets/base",
            "_view_module_version": "1.2.0",
            "_view_name": "StyleView",
            "description_width": ""
          }
        }
      }
    }
  },
  "nbformat": 4,
  "nbformat_minor": 0
}